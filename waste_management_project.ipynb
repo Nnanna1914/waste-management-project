{
 "cells": [
  {
   "cell_type": "markdown",
   "id": "64bdb1a9-2fc8-4153-af48-5448de514dbf",
   "metadata": {},
   "source": [
    "1. Database Setup and Table Creation"
   ]
  },
  {
   "cell_type": "code",
   "execution_count": 1,
   "id": "5dcb7d0e-7105-4782-a04b-8d5340ae4872",
   "metadata": {},
   "outputs": [
    {
     "name": "stdout",
     "output_type": "stream",
     "text": [
      "Database and tables created successfully!\n"
     ]
    }
   ],
   "source": [
    "import sqlite3\n",
    "\n",
    "# Connect to the database (it will be created if it doesn't exist)\n",
    "connection = sqlite3.connect('waste_management.db')\n",
    "cursor = connection.cursor()\n",
    "\n",
    "# Create Users table\n",
    "cursor.execute('''\n",
    "CREATE TABLE IF NOT EXISTS Users (\n",
    "    id INTEGER PRIMARY KEY AUTOINCREMENT,\n",
    "    name TEXT NOT NULL,\n",
    "    location TEXT NOT NULL\n",
    ")\n",
    "''')\n",
    "\n",
    "# Create DropoffPoints table\n",
    "cursor.execute('''\n",
    "CREATE TABLE IF NOT EXISTS DropoffPoints (\n",
    "    id INTEGER PRIMARY KEY AUTOINCREMENT,\n",
    "    name TEXT NOT NULL,\n",
    "    latitude REAL NOT NULL,\n",
    "    longitude REAL NOT NULL\n",
    ")\n",
    "''')\n",
    "\n",
    "# Create RecyclingActivities table\n",
    "cursor.execute('''\n",
    "CREATE TABLE IF NOT EXISTS RecyclingActivities (\n",
    "    id INTEGER PRIMARY KEY AUTOINCREMENT,\n",
    "    user_id INTEGER NOT NULL,\n",
    "    waste_type TEXT NOT NULL,\n",
    "    weight REAL NOT NULL,\n",
    "    date TEXT NOT NULL,\n",
    "    FOREIGN KEY(user_id) REFERENCES Users(id)\n",
    ")\n",
    "''')\n",
    "\n",
    "# Commit and close\n",
    "connection.commit()\n",
    "connection.close()\n",
    "print(\"Database and tables created successfully!\")\n"
   ]
  },
  {
   "cell_type": "markdown",
   "id": "7c51b8c7-9c63-4b58-b61f-5dd241f75e2d",
   "metadata": {},
   "source": [
    "2. Insert Sample Data into the Database"
   ]
  },
  {
   "cell_type": "code",
   "execution_count": 2,
   "id": "556ab9a7-97ee-434e-8746-09c56a8136ee",
   "metadata": {},
   "outputs": [
    {
     "name": "stdout",
     "output_type": "stream",
     "text": [
      "Sample data inserted successfully!\n"
     ]
    }
   ],
   "source": [
    "# Reconnect to the database\n",
    "connection = sqlite3.connect('waste_management.db')\n",
    "cursor = connection.cursor()\n",
    "\n",
    "# Insert sample data into Users table\n",
    "users = [\n",
    "    ('Alice Johnson', 'Lagos'),\n",
    "    ('Bob Smith', 'Abuja'),\n",
    "    ('Charlie Brown', 'Kano')\n",
    "]\n",
    "cursor.executemany('INSERT INTO Users (name, location) VALUES (?, ?)', users)\n",
    "\n",
    "# Insert sample data into DropoffPoints table\n",
    "dropoff_points = [\n",
    "    ('Recycling Center A', 6.5244, 3.3792),  # Lagos\n",
    "    ('Recycling Center B', 9.0765, 7.3986),  # Abuja\n",
    "    ('Recycling Center C', 12.0022, 8.5919)  # Kano\n",
    "]\n",
    "cursor.executemany('INSERT INTO DropoffPoints (name, latitude, longitude) VALUES (?, ?, ?)', dropoff_points)\n",
    "\n",
    "# Insert sample data into RecyclingActivities table\n",
    "recycling_activities = [\n",
    "    (1, 'Plastic', 5.2, '2024-11-18'),\n",
    "    (1, 'Paper', 3.0, '2024-11-17'),\n",
    "    (2, 'Glass', 7.1, '2024-11-16'),\n",
    "    (3, 'Metal', 4.5, '2024-11-15'),\n",
    "    (2, 'Plastic', 2.5, '2024-11-14')\n",
    "]\n",
    "cursor.executemany('INSERT INTO RecyclingActivities (user_id, waste_type, weight, date) VALUES (?, ?, ?, ?)', recycling_activities)\n",
    "\n",
    "# Commit and close\n",
    "connection.commit()\n",
    "connection.close()\n",
    "print(\"Sample data inserted successfully!\")\n"
   ]
  },
  {
   "cell_type": "markdown",
   "id": "9d206985-baf6-46be-96ca-97d12ee33349",
   "metadata": {},
   "source": [
    "3. Fetch Data from Database and Display"
   ]
  },
  {
   "cell_type": "code",
   "execution_count": 3,
   "id": "daab831f-282e-4df8-a058-ede611d30ad3",
   "metadata": {},
   "outputs": [
    {
     "name": "stdout",
     "output_type": "stream",
     "text": [
      "(1, 'Alice Johnson', 'Lagos')\n",
      "(2, 'Bob Smith', 'Abuja')\n",
      "(3, 'Charlie Brown', 'Kano')\n",
      "(1, 1, 'Plastic', 5.2, '2024-11-18')\n",
      "(2, 1, 'Paper', 3.0, '2024-11-17')\n",
      "(3, 2, 'Glass', 7.1, '2024-11-16')\n",
      "(4, 3, 'Metal', 4.5, '2024-11-15')\n",
      "(5, 2, 'Plastic', 2.5, '2024-11-14')\n"
     ]
    }
   ],
   "source": [
    "# Reconnect to the database and fetch Users data\n",
    "connection = sqlite3.connect('waste_management.db')\n",
    "cursor = connection.cursor()\n",
    "\n",
    "cursor.execute('SELECT * FROM Users')\n",
    "for row in cursor.fetchall():\n",
    "    print(row)\n",
    "\n",
    "connection.close()\n",
    "\n",
    "# Reconnect and fetch RecyclingActivities data\n",
    "connection = sqlite3.connect('waste_management.db')\n",
    "cursor = connection.cursor()\n",
    "\n",
    "cursor.execute('SELECT * FROM RecyclingActivities')\n",
    "for row in cursor.fetchall():\n",
    "    print(row)\n",
    "\n",
    "connection.close()\n"
   ]
  },
  {
   "cell_type": "markdown",
   "id": "f13bc59d-e03f-4d3b-8382-108545ffad7c",
   "metadata": {},
   "source": [
    "4. Visualize Total Weight of Waste Recycled by Users"
   ]
  },
  {
   "cell_type": "code",
   "execution_count": 4,
   "id": "25424ad9-0bba-465a-bc03-1332392fa00e",
   "metadata": {},
   "outputs": [
    {
     "name": "stderr",
     "output_type": "stream",
     "text": [
      "C:\\Users\\charl\\AppData\\Local\\Temp\\ipykernel_11340\\361301525.py:20: FutureWarning: \n",
      "\n",
      "Passing `palette` without assigning `hue` is deprecated and will be removed in v0.14.0. Assign the `y` variable to `hue` and set `legend=False` for the same effect.\n",
      "\n",
      "  sns.barplot(x='TotalWeight', y='UserName', data=df, palette='viridis')\n"
     ]
    },
    {
     "data": {
      "image/png": "[encoded data removed]",
      "text/plain": [
       "<Figure size 800x600 with 1 Axes>"
      ]
     },
     "metadata": {},
     "output_type": "display_data"
    }
   ],
   "source": [
    "import pandas as pd\n",
    "import matplotlib.pyplot as plt\n",
    "import seaborn as sns\n",
    "\n",
    "# Reconnect to the database\n",
    "connection = sqlite3.connect('waste_management.db')\n",
    "\n",
    "# Query data to sum total weight of recycled waste by user\n",
    "query = '''\n",
    "SELECT Users.name AS UserName, SUM(RecyclingActivities.weight) AS TotalWeight\n",
    "FROM Users\n",
    "JOIN RecyclingActivities ON Users.id = RecyclingActivities.user_id\n",
    "GROUP BY Users.id\n",
    "ORDER BY TotalWeight DESC\n",
    "'''\n",
    "df = pd.read_sql_query(query, connection)\n",
    "\n",
    "# Plot bar chart\n",
    "plt.figure(figsize=(8, 6))\n",
    "sns.barplot(x='TotalWeight', y='UserName', data=df, palette='viridis')\n",
    "plt.title('Total Waste Recycled by User')\n",
    "plt.xlabel('Total Weight (kg)')\n",
    "plt.ylabel('User Name')\n",
    "plt.show()\n",
    "\n",
    "connection.close()\n"
   ]
  },
  {
   "cell_type": "markdown",
   "id": "32912844-196f-4d41-8abb-e69ab8dfd71f",
   "metadata": {},
   "source": [
    "5. Display Map of Waste Drop-off Points"
   ]
  },
  {
   "cell_type": "code",
   "execution_count": 5,
   "id": "a0f47d4c-8b17-4f6c-9796-8048ddb2be5a",
   "metadata": {},
   "outputs": [
    {
     "name": "stdout",
     "output_type": "stream",
     "text": [
      "Map saved to 'waste_dropoff_map_with_recycling.html'!\n"
     ]
    }
   ],
   "source": [
    "import folium\n",
    "\n",
    "# Create map centered on Nigeria\n",
    "m = folium.Map(location=[9.0820, 8.6753], zoom_start=6)\n",
    "\n",
    "# Add dropoff points to the map\n",
    "connection = sqlite3.connect('waste_management.db')\n",
    "cursor = connection.cursor()\n",
    "cursor.execute('SELECT name, latitude, longitude FROM DropoffPoints')\n",
    "\n",
    "for name, lat, lon in cursor.fetchall():\n",
    "    folium.Marker([lat, lon], popup=name).add_to(m)\n",
    "\n",
    "# Save the map to an HTML file\n",
    "m.save('waste_dropoff_map_with_recycling.html')\n",
    "print(\"Map saved to 'waste_dropoff_map_with_recycling.html'!\")\n",
    "\n",
    "connection.close()\n"
   ]
  },
  {
   "cell_type": "markdown",
   "id": "5969d9cd-b80c-4f8f-8703-d0e9bd88ab3b",
   "metadata": {},
   "source": [
    "6. Add Interactive Widgets for User Selection"
   ]
  },
  {
   "cell_type": "code",
   "execution_count": 6,
   "id": "2efb3554-a090-4cac-a3ff-36ca3c26e8df",
   "metadata": {},
   "outputs": [],
   "source": [
    "import ipywidgets as widgets\n",
    "from IPython.display import display\n",
    "\n",
    "# Reconnect to the database and create dropdown for users\n",
    "connection = sqlite3.connect('waste_management.db')\n",
    "users_df = pd.read_sql_query('SELECT id, name FROM Users', connection)\n",
    "\n",
    "dropdown = widgets.Dropdown(\n",
    "    options=users_df['name'],\n",
    "    description='Select User:',\n",
    ")\n",
    "\n",
    "# Function to display user recycling data based on dropdown selection\n",
    "def show_user_data(selected_user):\n",
    "    user_id = users_df[users_df['name'] == selected_user]['id'].values[0]\n",
    "    query = f'''\n",
    "    SELECT waste_type, weight, date\n",
    "    FROM RecyclingActivities\n",
    "    WHERE user_id = {user_id}\n",
    "    '''\n",
    "    user_data = pd.read_sql_query(query, connection)\n",
    "    display(user_data)\n",
    "\n",
    "# Interactive widget to call the function when user is selected\n",
    "widgets.interactive(show_user_data, selected_user=dropdown)\n",
    "\n",
    "connection.close()\n"
   ]
  },
  {
   "cell_type": "code",
   "execution_count": 2,
   "id": "621269bd-1ac8-4a8e-9cef-6fa73509b01d",
   "metadata": {},
   "outputs": [
    {
     "data": {
      "application/vnd.jupyter.widget-view+json": {
       "model_id": "31d0d9efcca342c9bf7f09c4f8097945",
       "version_major": 2,
       "version_minor": 0
      },
      "text/plain": [
       "Dropdown(description='Select User:', options=('Alice Johnson', 'Bob Smith', 'Charlie Brown'), value='Alice Joh…"
      ]
     },
     "metadata": {},
     "output_type": "display_data"
    },
    {
     "data": {
      "application/vnd.jupyter.widget-view+json": {
       "model_id": "b652d6a9be804cbf8a2380680df48131",
       "version_major": 2,
       "version_minor": 0
      },
      "text/plain": [
       "interactive(children=(Dropdown(description='Select User:', options=('Alice Johnson', 'Bob Smith', 'Charlie Bro…"
      ]
     },
     "metadata": {},
     "output_type": "display_data"
    }
   ],
   "source": [
    "\n",
    "import sqlite3\n",
    "import folium\n",
    "from ipywidgets import widgets, interactive\n",
    "\n",
    "# Function to display all the data interactively\n",
    "def show_user_data_with_rewards(selected_user):\n",
    "    connection = sqlite3.connect('waste_management.db')\n",
    "    cursor = connection.cursor()\n",
    "    \n",
    "    # Fetch user data\n",
    "    query = '''\n",
    "    SELECT Users.name, Users.location, SUM(RecyclingActivities.weight) AS TotalWeight\n",
    "    FROM Users\n",
    "    LEFT JOIN RecyclingActivities ON Users.id = RecyclingActivities.user_id\n",
    "    WHERE Users.name = ?\n",
    "    GROUP BY Users.id\n",
    "    '''\n",
    "    cursor.execute(query, (selected_user,))\n",
    "    user_data = cursor.fetchone()\n",
    "    \n",
    "    if user_data:\n",
    "        name, location, total_weight = user_data\n",
    "        print(f\"User: {name}\\nLocation: {location}\\nTotal Waste Recycled: {total_weight} kg\")\n",
    "    else:\n",
    "        print(f\"No data available for {selected_user}.\")\n",
    "    \n",
    "    connection.close()\n",
    "\n",
    "def run_app(selected_user):\n",
    "    # Show user data\n",
    "    show_user_data_with_rewards(selected_user)\n",
    "    \n",
    "    # Reconnect to database\n",
    "    connection = sqlite3.connect('waste_management.db')\n",
    "    cursor = connection.cursor()\n",
    "    \n",
    "    # Update folium map with the new data\n",
    "    m = folium.Map(location=[9.0820, 8.6753], zoom_start=6)\n",
    "    \n",
    "    cursor.execute('SELECT name, latitude, longitude FROM DropoffPoints')\n",
    "    for name, lat, lon in cursor.fetchall():\n",
    "        folium.Marker([lat, lon], popup=name).add_to(m)\n",
    "    \n",
    "    # Save updated map\n",
    "    m.save('updated_waste_dropoff_map_with_recycling.html')\n",
    "    print(\"Map updated with recycling activities and saved!\")\n",
    "\n",
    "    connection.close()\n",
    "\n",
    "# Create dropdown for user selection\n",
    "connection = sqlite3.connect('waste_management.db')\n",
    "cursor = connection.cursor()\n",
    "cursor.execute('SELECT name FROM Users')\n",
    "users = [row[0] for row in cursor.fetchall()]\n",
    "connection.close()\n",
    "\n",
    "dropdown = widgets.Dropdown(\n",
    "    options=users,\n",
    "    description='Select User:',\n",
    "    disabled=False\n",
    ")\n",
    "\n",
    "# Interactive widget to call the function\n",
    "interactive_widget = interactive(run_app, selected_user=dropdown)\n",
    "display(dropdown, interactive_widget)\n"
   ]
  },
  {
   "cell_type": "markdown",
   "id": "01c4347f-dca9-47bc-8ee7-f95039302e0e",
   "metadata": {},
   "source": [
    "# Waste Management App\n",
    "\n",
    "This is a Python-based waste management application built using Jupyter Notebook.\n",
    "\n",
    "## Features\n",
    "- Mapping of waste drop-off points using **folium**.\n",
    "- Tracking recycling activities by users and calculating the total waste recycled.\n",
    "- Interactive widgets for selecting a user and displaying their recycling activities.\n",
    "- Rewards system based on waste recycling.\n",
    "\n",
    "## How to Run\n",
    "1. Clone the repository or download the notebook.\n",
    "2. Install dependencies by running:\n",
    "    ```bash\n",
    "    pip install -r requirements.txt\n",
    "    ```\n",
    "3. Open the Jupyter notebook and run the code cells.\n",
    "4. The map and interactive widgets should be displayed.\n",
    "\n",
    "## Files\n",
    "- `waste_management_project.ipynb`: The main Jupyter notebook.\n",
    "- `waste_dropoff_map_with_recycling.html`: Interactive map of drop-off points.\n",
    "- `requirements.txt`: List of dependencies.\n",
    "\n"
   ]
  },
  {
   "cell_type": "code",
   "execution_count": null,
   "id": "860c591b-8749-4c4f-b588-1d960a7ed15c",
   "metadata": {},
   "outputs": [],
   "source": []
  }
 ],
 "metadata": {
  "kernelspec": {
   "display_name": "Python 3 (ipykernel)",
   "language": "python",
   "name": "python3"
  },
  "language_info": {
   "codemirror_mode": {
    "name": "ipython",
    "version": 3
   },
   "file_extension": ".py",
   "mimetype": "text/x-python",
   "name": "python",
   "nbconvert_exporter": "python",
   "pygments_lexer": "ipython3",
   "version": "3.12.4"
  }
 },
 "nbformat": 4,
 "nbformat_minor": 5
}
